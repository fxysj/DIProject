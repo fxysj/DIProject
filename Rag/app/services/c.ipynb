{
 "cells": [
  {
   "cell_type": "code",
   "id": "initial_id",
   "metadata": {
    "collapsed": true,
    "ExecuteTime": {
     "end_time": "2025-04-29T03:45:08.286623Z",
     "start_time": "2025-04-29T03:45:05.066212Z"
    }
   },
   "source": [
    "from langchain_core.callbacks.manager import (\n",
    "    adispatch_custom_event,\n",
    ")\n",
    "from langchain_core.runnables import RunnableLambda, RunnableConfig\n",
    "import asyncio\n",
    "\n",
    "\n",
    "async def slow_thing(some_input: str, config: RunnableConfig) -> str:\n",
    "    \"\"\"Do something that takes a long time.\"\"\"\n",
    "    await asyncio.sleep(1) # Placeholder for some slow operation\n",
    "    await adispatch_custom_event(\n",
    "        \"progress_event\",\n",
    "        {\"message\": \"Finished step 1 of 3\"},\n",
    "        config=config # Must be included for python < 3.10\n",
    "    )\n",
    "    await asyncio.sleep(1) # Placeholder for some slow operation\n",
    "    await adispatch_custom_event(\n",
    "        \"progress_event\",\n",
    "        {\"message\": \"Finished step 2 of 3\"},\n",
    "        config=config # Must be included for python < 3.10\n",
    "    )\n",
    "    await asyncio.sleep(1) # Placeholder for some slow operation\n",
    "    return \"Done\"\n",
    "\n",
    "slow_thing = RunnableLambda(slow_thing)\n",
    "\n",
    "async for event in slow_thing.astream_events(\"some_input\", version=\"v2\"):\n",
    "    print(event)"
   ],
   "outputs": [
    {
     "name": "stdout",
     "output_type": "stream",
     "text": [
      "{'event': 'on_chain_start', 'data': {'input': 'some_input'}, 'name': 'slow_thing', 'tags': [], 'run_id': '9076b973-4ba6-45d1-855e-32217bbccf1f', 'metadata': {}, 'parent_ids': []}\n",
      "{'event': 'on_custom_event', 'run_id': '9076b973-4ba6-45d1-855e-32217bbccf1f', 'name': 'progress_event', 'tags': [], 'metadata': {}, 'data': {'message': 'Finished step 1 of 3'}, 'parent_ids': []}\n",
      "{'event': 'on_custom_event', 'run_id': '9076b973-4ba6-45d1-855e-32217bbccf1f', 'name': 'progress_event', 'tags': [], 'metadata': {}, 'data': {'message': 'Finished step 2 of 3'}, 'parent_ids': []}\n",
      "{'event': 'on_chain_stream', 'run_id': '9076b973-4ba6-45d1-855e-32217bbccf1f', 'name': 'slow_thing', 'tags': [], 'metadata': {}, 'data': {'chunk': 'Done'}, 'parent_ids': []}\n",
      "{'event': 'on_chain_end', 'data': {'output': 'Done'}, 'run_id': '9076b973-4ba6-45d1-855e-32217bbccf1f', 'name': 'slow_thing', 'tags': [], 'metadata': {}, 'parent_ids': []}\n"
     ]
    }
   ],
   "execution_count": 1
  }
 ],
 "metadata": {
  "kernelspec": {
   "display_name": "Python 3",
   "language": "python",
   "name": "python3"
  },
  "language_info": {
   "codemirror_mode": {
    "name": "ipython",
    "version": 2
   },
   "file_extension": ".py",
   "mimetype": "text/x-python",
   "name": "python",
   "nbconvert_exporter": "python",
   "pygments_lexer": "ipython2",
   "version": "2.7.6"
  }
 },
 "nbformat": 4,
 "nbformat_minor": 5
}
