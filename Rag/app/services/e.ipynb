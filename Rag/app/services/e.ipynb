{
 "cells": [
  {
   "cell_type": "code",
   "id": "initial_id",
   "metadata": {
    "collapsed": true,
    "ExecuteTime": {
     "end_time": "2025-04-29T03:41:38.079458Z",
     "start_time": "2025-04-29T03:41:38.073955Z"
    }
   },
   "source": [
    "from langchain_core.runnables import RunnableLambda\n",
    "\n",
    "async def reverse(s: str) -> str:\n",
    "    return s[::-1]\n",
    "\n",
    "chain = RunnableLambda(func=reverse)\n",
    "events = [\n",
    "    event async for event in chain.astream_events(\"hello\",version=\"v2\")\n",
    "]\n",
    "print(events)"
   ],
   "outputs": [
    {
     "name": "stdout",
     "output_type": "stream",
     "text": [
      "[{'event': 'on_chain_start', 'data': {'input': 'hello'}, 'name': 'reverse', 'tags': [], 'run_id': '038c2cf0-e5f5-4082-bb69-6d40436d2efa', 'metadata': {}, 'parent_ids': []}, {'event': 'on_chain_stream', 'run_id': '038c2cf0-e5f5-4082-bb69-6d40436d2efa', 'name': 'reverse', 'tags': [], 'metadata': {}, 'data': {'chunk': 'olleh'}, 'parent_ids': []}, {'event': 'on_chain_end', 'data': {'output': 'olleh'}, 'run_id': '038c2cf0-e5f5-4082-bb69-6d40436d2efa', 'name': 'reverse', 'tags': [], 'metadata': {}, 'parent_ids': []}]\n"
     ]
    }
   ],
   "execution_count": 2
  }
 ],
 "metadata": {
  "kernelspec": {
   "display_name": "Python 3",
   "language": "python",
   "name": "python3"
  },
  "language_info": {
   "codemirror_mode": {
    "name": "ipython",
    "version": 2
   },
   "file_extension": ".py",
   "mimetype": "text/x-python",
   "name": "python",
   "nbconvert_exporter": "python",
   "pygments_lexer": "ipython2",
   "version": "2.7.6"
  }
 },
 "nbformat": 4,
 "nbformat_minor": 5
}
