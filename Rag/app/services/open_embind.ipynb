{
 "cells": [
  {
   "cell_type": "code",
   "id": "initial_id",
   "metadata": {
    "collapsed": true,
    "ExecuteTime": {
     "end_time": "2025-04-29T03:07:24.517293Z",
     "start_time": "2025-04-29T03:07:23.278857Z"
    }
   },
   "source": "!pip install -U langchain_openai",
   "outputs": [
    {
     "name": "stdout",
     "output_type": "stream",
     "text": [
      "Requirement already satisfied: langchain_openai in /Users/sin/PycharmProjects/DIProject/.venv/lib/python3.11/site-packages (0.3.14)\r\n",
      "Requirement already satisfied: langchain-core<1.0.0,>=0.3.53 in /Users/sin/PycharmProjects/DIProject/.venv/lib/python3.11/site-packages (from langchain_openai) (0.3.56)\r\n",
      "Requirement already satisfied: openai<2.0.0,>=1.68.2 in /Users/sin/PycharmProjects/DIProject/.venv/lib/python3.11/site-packages (from langchain_openai) (1.70.0)\r\n",
      "Requirement already satisfied: tiktoken<1,>=0.7 in /Users/sin/PycharmProjects/DIProject/.venv/lib/python3.11/site-packages (from langchain_openai) (0.9.0)\r\n",
      "Requirement already satisfied: langsmith<0.4,>=0.1.125 in /Users/sin/PycharmProjects/DIProject/.venv/lib/python3.11/site-packages (from langchain-core<1.0.0,>=0.3.53->langchain_openai) (0.3.27)\r\n",
      "Requirement already satisfied: tenacity!=8.4.0,<10.0.0,>=8.1.0 in /Users/sin/PycharmProjects/DIProject/.venv/lib/python3.11/site-packages (from langchain-core<1.0.0,>=0.3.53->langchain_openai) (9.1.2)\r\n",
      "Requirement already satisfied: jsonpatch<2.0,>=1.33 in /Users/sin/PycharmProjects/DIProject/.venv/lib/python3.11/site-packages (from langchain-core<1.0.0,>=0.3.53->langchain_openai) (1.33)\r\n",
      "Requirement already satisfied: PyYAML>=5.3 in /Users/sin/PycharmProjects/DIProject/.venv/lib/python3.11/site-packages (from langchain-core<1.0.0,>=0.3.53->langchain_openai) (6.0.2)\r\n",
      "Requirement already satisfied: packaging<25,>=23.2 in /Users/sin/PycharmProjects/DIProject/.venv/lib/python3.11/site-packages (from langchain-core<1.0.0,>=0.3.53->langchain_openai) (24.2)\r\n",
      "Requirement already satisfied: typing-extensions>=4.7 in /Users/sin/PycharmProjects/DIProject/.venv/lib/python3.11/site-packages (from langchain-core<1.0.0,>=0.3.53->langchain_openai) (4.13.1)\r\n",
      "Requirement already satisfied: pydantic<3.0.0,>=2.5.2 in /Users/sin/PycharmProjects/DIProject/.venv/lib/python3.11/site-packages (from langchain-core<1.0.0,>=0.3.53->langchain_openai) (2.11.2)\r\n",
      "Requirement already satisfied: anyio<5,>=3.5.0 in /Users/sin/PycharmProjects/DIProject/.venv/lib/python3.11/site-packages (from openai<2.0.0,>=1.68.2->langchain_openai) (4.9.0)\r\n",
      "Requirement already satisfied: distro<2,>=1.7.0 in /Users/sin/PycharmProjects/DIProject/.venv/lib/python3.11/site-packages (from openai<2.0.0,>=1.68.2->langchain_openai) (1.9.0)\r\n",
      "Requirement already satisfied: httpx<1,>=0.23.0 in /Users/sin/PycharmProjects/DIProject/.venv/lib/python3.11/site-packages (from openai<2.0.0,>=1.68.2->langchain_openai) (0.28.1)\r\n",
      "Requirement already satisfied: jiter<1,>=0.4.0 in /Users/sin/PycharmProjects/DIProject/.venv/lib/python3.11/site-packages (from openai<2.0.0,>=1.68.2->langchain_openai) (0.9.0)\r\n",
      "Requirement already satisfied: sniffio in /Users/sin/PycharmProjects/DIProject/.venv/lib/python3.11/site-packages (from openai<2.0.0,>=1.68.2->langchain_openai) (1.3.1)\r\n",
      "Requirement already satisfied: tqdm>4 in /Users/sin/PycharmProjects/DIProject/.venv/lib/python3.11/site-packages (from openai<2.0.0,>=1.68.2->langchain_openai) (4.67.1)\r\n",
      "Requirement already satisfied: regex>=2022.1.18 in /Users/sin/PycharmProjects/DIProject/.venv/lib/python3.11/site-packages (from tiktoken<1,>=0.7->langchain_openai) (2024.11.6)\r\n",
      "Requirement already satisfied: requests>=2.26.0 in /Users/sin/PycharmProjects/DIProject/.venv/lib/python3.11/site-packages (from tiktoken<1,>=0.7->langchain_openai) (2.32.3)\r\n",
      "Requirement already satisfied: idna>=2.8 in /Users/sin/PycharmProjects/DIProject/.venv/lib/python3.11/site-packages (from anyio<5,>=3.5.0->openai<2.0.0,>=1.68.2->langchain_openai) (3.10)\r\n",
      "Requirement already satisfied: certifi in /Users/sin/PycharmProjects/DIProject/.venv/lib/python3.11/site-packages (from httpx<1,>=0.23.0->openai<2.0.0,>=1.68.2->langchain_openai) (2025.1.31)\r\n",
      "Requirement already satisfied: httpcore==1.* in /Users/sin/PycharmProjects/DIProject/.venv/lib/python3.11/site-packages (from httpx<1,>=0.23.0->openai<2.0.0,>=1.68.2->langchain_openai) (1.0.7)\r\n",
      "Requirement already satisfied: h11<0.15,>=0.13 in /Users/sin/PycharmProjects/DIProject/.venv/lib/python3.11/site-packages (from httpcore==1.*->httpx<1,>=0.23.0->openai<2.0.0,>=1.68.2->langchain_openai) (0.14.0)\r\n",
      "Requirement already satisfied: jsonpointer>=1.9 in /Users/sin/PycharmProjects/DIProject/.venv/lib/python3.11/site-packages (from jsonpatch<2.0,>=1.33->langchain-core<1.0.0,>=0.3.53->langchain_openai) (3.0.0)\r\n",
      "Requirement already satisfied: orjson<4.0.0,>=3.9.14 in /Users/sin/PycharmProjects/DIProject/.venv/lib/python3.11/site-packages (from langsmith<0.4,>=0.1.125->langchain-core<1.0.0,>=0.3.53->langchain_openai) (3.10.16)\r\n",
      "Requirement already satisfied: requests-toolbelt<2.0.0,>=1.0.0 in /Users/sin/PycharmProjects/DIProject/.venv/lib/python3.11/site-packages (from langsmith<0.4,>=0.1.125->langchain-core<1.0.0,>=0.3.53->langchain_openai) (1.0.0)\r\n",
      "Requirement already satisfied: zstandard<0.24.0,>=0.23.0 in /Users/sin/PycharmProjects/DIProject/.venv/lib/python3.11/site-packages (from langsmith<0.4,>=0.1.125->langchain-core<1.0.0,>=0.3.53->langchain_openai) (0.23.0)\r\n",
      "Requirement already satisfied: annotated-types>=0.6.0 in /Users/sin/PycharmProjects/DIProject/.venv/lib/python3.11/site-packages (from pydantic<3.0.0,>=2.5.2->langchain-core<1.0.0,>=0.3.53->langchain_openai) (0.7.0)\r\n",
      "Requirement already satisfied: pydantic-core==2.33.1 in /Users/sin/PycharmProjects/DIProject/.venv/lib/python3.11/site-packages (from pydantic<3.0.0,>=2.5.2->langchain-core<1.0.0,>=0.3.53->langchain_openai) (2.33.1)\r\n",
      "Requirement already satisfied: typing-inspection>=0.4.0 in /Users/sin/PycharmProjects/DIProject/.venv/lib/python3.11/site-packages (from pydantic<3.0.0,>=2.5.2->langchain-core<1.0.0,>=0.3.53->langchain_openai) (0.4.0)\r\n",
      "Requirement already satisfied: charset-normalizer<4,>=2 in /Users/sin/PycharmProjects/DIProject/.venv/lib/python3.11/site-packages (from requests>=2.26.0->tiktoken<1,>=0.7->langchain_openai) (3.4.1)\r\n",
      "Requirement already satisfied: urllib3<3,>=1.21.1 in /Users/sin/PycharmProjects/DIProject/.venv/lib/python3.11/site-packages (from requests>=2.26.0->tiktoken<1,>=0.7->langchain_openai) (2.3.0)\r\n",
      "\r\n",
      "\u001B[1m[\u001B[0m\u001B[34;49mnotice\u001B[0m\u001B[1;39;49m]\u001B[0m\u001B[39;49m A new release of pip is available: \u001B[0m\u001B[31;49m23.2.1\u001B[0m\u001B[39;49m -> \u001B[0m\u001B[32;49m25.1\u001B[0m\r\n",
      "\u001B[1m[\u001B[0m\u001B[34;49mnotice\u001B[0m\u001B[1;39;49m]\u001B[0m\u001B[39;49m To update, run: \u001B[0m\u001B[32;49mpip install --upgrade pip\u001B[0m\r\n"
     ]
    }
   ],
   "execution_count": 2
  },
  {
   "metadata": {
    "ExecuteTime": {
     "end_time": "2025-04-29T03:08:52.999352Z",
     "start_time": "2025-04-29T03:08:52.477558Z"
    }
   },
   "cell_type": "code",
   "source": [
    "from langchain_openai import OpenAIEmbeddings\n",
    "OPENAI_API_KEY=\"sk-3GiWozbrq1kFipcgF7ymSbgH9g1f5lWGfpkUgfWBICul0Kai\"\n",
    "OPENAI_API_BASE_URL=\"https://www.dmxapi.cn/v1\"\n",
    "embeddings = OpenAIEmbeddings(\n",
    "    model=\"text-embedding-3-large\",\n",
    "    openai_api_base=OPENAI_API_BASE_URL,\n",
    "    openai_api_key=OPENAI_API_KEY\n",
    "    # With the `text-embedding-3` class\n",
    "    # of models, you can specify the size\n",
    "    # of the embeddings you want returned.\n",
    "    # dimensions=1024\n",
    ")"
   ],
   "id": "a56ffe0904174abd",
   "outputs": [],
   "execution_count": 3
  },
  {
   "metadata": {
    "ExecuteTime": {
     "end_time": "2025-04-29T03:09:17.084572Z",
     "start_time": "2025-04-29T03:09:15.673258Z"
    }
   },
   "cell_type": "code",
   "source": [
    "input_text = \"The meaning of life is 42\"\n",
    "vector = embeddings.embed_query(\"hello\")\n",
    "print(vector[:3])"
   ],
   "id": "f2e5a5bfd57df690",
   "outputs": [
    {
     "name": "stdout",
     "output_type": "stream",
     "text": [
      "[-0.024605071172118187, -0.0075481850653886795, 0.004001544788479805]\n"
     ]
    }
   ],
   "execution_count": 4
  },
  {
   "metadata": {},
   "cell_type": "markdown",
   "source": "# Embed multiple texts:",
   "id": "6b42039cc5fac082"
  },
  {
   "metadata": {
    "ExecuteTime": {
     "end_time": "2025-04-29T03:09:57.785089Z",
     "start_time": "2025-04-29T03:09:56.927789Z"
    }
   },
   "cell_type": "code",
   "source": [
    "vectors = embeddings.embed_documents([\"hello\", \"goodbye\"])\n",
    "# Showing only the first 3 coordinates\n",
    "print(len(vectors))\n",
    "print(vectors[0][:3])"
   ],
   "id": "3b053794eb405ef5",
   "outputs": [
    {
     "name": "stdout",
     "output_type": "stream",
     "text": [
      "2\n",
      "[-0.024605071172118187, -0.0075481850653886795, 0.004001544788479805]\n"
     ]
    }
   ],
   "execution_count": 5
  },
  {
   "metadata": {},
   "cell_type": "code",
   "outputs": [],
   "execution_count": null,
   "source": "",
   "id": "5db6abf3527bc03e"
  },
  {
   "metadata": {},
   "cell_type": "markdown",
   "source": "# Asyc",
   "id": "e9d4f405f8134211"
  },
  {
   "metadata": {
    "ExecuteTime": {
     "end_time": "2025-04-29T03:11:17.416230Z",
     "start_time": "2025-04-29T03:11:16.712841Z"
    }
   },
   "cell_type": "code",
   "source": [
    "vector = await embeddings.aembed_query(input_text)\n",
    "print(vector[0:3])\n",
    "\n",
    "# multiple:\n",
    "# await embed.aembed_documents(input_texts)\n"
   ],
   "id": "483b4fd5693b0a50",
   "outputs": [
    {
     "name": "stdout",
     "output_type": "stream",
     "text": [
      "[-0.0005764781381003559, -0.02650410309433937, 0.008015129715204239]\n"
     ]
    }
   ],
   "execution_count": 6
  }
 ],
 "metadata": {
  "kernelspec": {
   "display_name": "Python 3",
   "language": "python",
   "name": "python3"
  },
  "language_info": {
   "codemirror_mode": {
    "name": "ipython",
    "version": 2
   },
   "file_extension": ".py",
   "mimetype": "text/x-python",
   "name": "python",
   "nbconvert_exporter": "python",
   "pygments_lexer": "ipython2",
   "version": "2.7.6"
  }
 },
 "nbformat": 4,
 "nbformat_minor": 5
}
