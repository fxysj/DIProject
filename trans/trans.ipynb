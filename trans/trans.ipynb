{
 "cells": [
  {
   "cell_type": "code",
   "id": "initial_id",
   "metadata": {
    "collapsed": true,
    "ExecuteTime": {
     "end_time": "2025-05-20T06:03:38.546386Z",
     "start_time": "2025-05-20T06:02:35.156550Z"
    }
   },
   "source": "!pip install transformers datasets accelerate bitsandbytes peft qwen-tokenizer",
   "outputs": [
    {
     "name": "stdout",
     "output_type": "stream",
     "text": [
      "Requirement already satisfied: transformers in /Users/sin/PycharmProjects/DIProject/.venv/lib/python3.11/site-packages (4.51.3)\r\n",
      "Requirement already satisfied: datasets in /Users/sin/PycharmProjects/DIProject/.venv/lib/python3.11/site-packages (3.6.0)\r\n",
      "Requirement already satisfied: accelerate in /Users/sin/PycharmProjects/DIProject/.venv/lib/python3.11/site-packages (1.7.0)\r\n",
      "Collecting bitsandbytes\r\n",
      "  Obtaining dependency information for bitsandbytes from https://files.pythonhosted.org/packages/9b/63/489ef9cd7a33c1f08f1b2be51d1b511883c5e34591aaa9873b30021cd679/bitsandbytes-0.42.0-py3-none-any.whl.metadata\r\n",
      "  Downloading bitsandbytes-0.42.0-py3-none-any.whl.metadata (9.9 kB)\r\n",
      "Requirement already satisfied: peft in /Users/sin/PycharmProjects/DIProject/.venv/lib/python3.11/site-packages (0.15.2)\r\n",
      "Collecting qwen-tokenizer\r\n",
      "  Obtaining dependency information for qwen-tokenizer from https://files.pythonhosted.org/packages/68/5c/b8444b962933004316030702ffaa3cd7b551b640b3c3c8f00bc372649451/qwen_tokenizer-0.2.0-py3-none-any.whl.metadata\r\n",
      "  Downloading qwen_tokenizer-0.2.0-py3-none-any.whl.metadata (1.2 kB)\r\n",
      "Requirement already satisfied: filelock in /Users/sin/PycharmProjects/DIProject/.venv/lib/python3.11/site-packages (from transformers) (3.18.0)\r\n",
      "Requirement already satisfied: huggingface-hub<1.0,>=0.30.0 in /Users/sin/PycharmProjects/DIProject/.venv/lib/python3.11/site-packages (from transformers) (0.30.2)\r\n",
      "Requirement already satisfied: numpy>=1.17 in /Users/sin/PycharmProjects/DIProject/.venv/lib/python3.11/site-packages (from transformers) (2.2.5)\r\n",
      "Requirement already satisfied: packaging>=20.0 in /Users/sin/PycharmProjects/DIProject/.venv/lib/python3.11/site-packages (from transformers) (24.2)\r\n",
      "Requirement already satisfied: pyyaml>=5.1 in /Users/sin/PycharmProjects/DIProject/.venv/lib/python3.11/site-packages (from transformers) (6.0.2)\r\n",
      "Requirement already satisfied: regex!=2019.12.17 in /Users/sin/PycharmProjects/DIProject/.venv/lib/python3.11/site-packages (from transformers) (2024.11.6)\r\n",
      "Requirement already satisfied: requests in /Users/sin/PycharmProjects/DIProject/.venv/lib/python3.11/site-packages (from transformers) (2.32.3)\r\n",
      "Requirement already satisfied: tokenizers<0.22,>=0.21 in /Users/sin/PycharmProjects/DIProject/.venv/lib/python3.11/site-packages (from transformers) (0.21.1)\r\n",
      "Requirement already satisfied: safetensors>=0.4.3 in /Users/sin/PycharmProjects/DIProject/.venv/lib/python3.11/site-packages (from transformers) (0.5.3)\r\n",
      "Requirement already satisfied: tqdm>=4.27 in /Users/sin/PycharmProjects/DIProject/.venv/lib/python3.11/site-packages (from transformers) (4.67.1)\r\n",
      "Requirement already satisfied: pyarrow>=15.0.0 in /Users/sin/PycharmProjects/DIProject/.venv/lib/python3.11/site-packages (from datasets) (20.0.0)\r\n",
      "Requirement already satisfied: dill<0.3.9,>=0.3.0 in /Users/sin/PycharmProjects/DIProject/.venv/lib/python3.11/site-packages (from datasets) (0.3.8)\r\n",
      "Requirement already satisfied: pandas in /Users/sin/PycharmProjects/DIProject/.venv/lib/python3.11/site-packages (from datasets) (2.2.3)\r\n",
      "Requirement already satisfied: xxhash in /Users/sin/PycharmProjects/DIProject/.venv/lib/python3.11/site-packages (from datasets) (3.5.0)\r\n",
      "Requirement already satisfied: multiprocess<0.70.17 in /Users/sin/PycharmProjects/DIProject/.venv/lib/python3.11/site-packages (from datasets) (0.70.16)\r\n",
      "Requirement already satisfied: fsspec[http]<=2025.3.0,>=2023.1.0 in /Users/sin/PycharmProjects/DIProject/.venv/lib/python3.11/site-packages (from datasets) (2025.3.0)\r\n",
      "Requirement already satisfied: psutil in /Users/sin/PycharmProjects/DIProject/.venv/lib/python3.11/site-packages (from accelerate) (7.0.0)\r\n",
      "Requirement already satisfied: torch>=2.0.0 in /Users/sin/PycharmProjects/DIProject/.venv/lib/python3.11/site-packages (from accelerate) (2.7.0)\r\n",
      "Collecting scipy (from bitsandbytes)\r\n",
      "  Obtaining dependency information for scipy from https://files.pythonhosted.org/packages/4b/fa/a7e5b95afd80d24313307f03624acc65801846fa75599034f8ceb9e2cbf6/scipy-1.15.3-cp311-cp311-macosx_14_0_arm64.whl.metadata\r\n",
      "  Downloading scipy-1.15.3-cp311-cp311-macosx_14_0_arm64.whl.metadata (61 kB)\r\n",
      "\u001B[2K     \u001B[90m━━━━━━━━━━━━━━━━━━━━━━━━━━━━━━━━━━━━━━━\u001B[0m \u001B[32m62.0/62.0 kB\u001B[0m \u001B[31m582.3 kB/s\u001B[0m eta \u001B[36m0:00:00\u001B[0ma \u001B[36m0:00:01\u001B[0m\r\n",
      "\u001B[?25hRequirement already satisfied: tiktoken>=0.7.0 in /Users/sin/PycharmProjects/DIProject/.venv/lib/python3.11/site-packages (from qwen-tokenizer) (0.9.0)\r\n",
      "Requirement already satisfied: aiohttp!=4.0.0a0,!=4.0.0a1 in /Users/sin/PycharmProjects/DIProject/.venv/lib/python3.11/site-packages (from fsspec[http]<=2025.3.0,>=2023.1.0->datasets) (3.11.16)\r\n",
      "Requirement already satisfied: typing-extensions>=3.7.4.3 in /Users/sin/PycharmProjects/DIProject/.venv/lib/python3.11/site-packages (from huggingface-hub<1.0,>=0.30.0->transformers) (4.13.1)\r\n",
      "Requirement already satisfied: charset-normalizer<4,>=2 in /Users/sin/PycharmProjects/DIProject/.venv/lib/python3.11/site-packages (from requests->transformers) (3.4.1)\r\n",
      "Requirement already satisfied: idna<4,>=2.5 in /Users/sin/PycharmProjects/DIProject/.venv/lib/python3.11/site-packages (from requests->transformers) (3.10)\r\n",
      "Requirement already satisfied: urllib3<3,>=1.21.1 in /Users/sin/PycharmProjects/DIProject/.venv/lib/python3.11/site-packages (from requests->transformers) (2.3.0)\r\n",
      "Requirement already satisfied: certifi>=2017.4.17 in /Users/sin/PycharmProjects/DIProject/.venv/lib/python3.11/site-packages (from requests->transformers) (2025.1.31)\r\n",
      "Requirement already satisfied: sympy>=1.13.3 in /Users/sin/PycharmProjects/DIProject/.venv/lib/python3.11/site-packages (from torch>=2.0.0->accelerate) (1.14.0)\r\n",
      "Requirement already satisfied: networkx in /Users/sin/PycharmProjects/DIProject/.venv/lib/python3.11/site-packages (from torch>=2.0.0->accelerate) (3.4.2)\r\n",
      "Requirement already satisfied: jinja2 in /Users/sin/PycharmProjects/DIProject/.venv/lib/python3.11/site-packages (from torch>=2.0.0->accelerate) (3.1.6)\r\n",
      "Requirement already satisfied: python-dateutil>=2.8.2 in /Users/sin/PycharmProjects/DIProject/.venv/lib/python3.11/site-packages (from pandas->datasets) (2.9.0.post0)\r\n",
      "Requirement already satisfied: pytz>=2020.1 in /Users/sin/PycharmProjects/DIProject/.venv/lib/python3.11/site-packages (from pandas->datasets) (2025.2)\r\n",
      "Requirement already satisfied: tzdata>=2022.7 in /Users/sin/PycharmProjects/DIProject/.venv/lib/python3.11/site-packages (from pandas->datasets) (2025.2)\r\n",
      "Requirement already satisfied: aiohappyeyeballs>=2.3.0 in /Users/sin/PycharmProjects/DIProject/.venv/lib/python3.11/site-packages (from aiohttp!=4.0.0a0,!=4.0.0a1->fsspec[http]<=2025.3.0,>=2023.1.0->datasets) (2.6.1)\r\n",
      "Requirement already satisfied: aiosignal>=1.1.2 in /Users/sin/PycharmProjects/DIProject/.venv/lib/python3.11/site-packages (from aiohttp!=4.0.0a0,!=4.0.0a1->fsspec[http]<=2025.3.0,>=2023.1.0->datasets) (1.3.2)\r\n",
      "Requirement already satisfied: attrs>=17.3.0 in /Users/sin/PycharmProjects/DIProject/.venv/lib/python3.11/site-packages (from aiohttp!=4.0.0a0,!=4.0.0a1->fsspec[http]<=2025.3.0,>=2023.1.0->datasets) (25.3.0)\r\n",
      "Requirement already satisfied: frozenlist>=1.1.1 in /Users/sin/PycharmProjects/DIProject/.venv/lib/python3.11/site-packages (from aiohttp!=4.0.0a0,!=4.0.0a1->fsspec[http]<=2025.3.0,>=2023.1.0->datasets) (1.5.0)\r\n",
      "Requirement already satisfied: multidict<7.0,>=4.5 in /Users/sin/PycharmProjects/DIProject/.venv/lib/python3.11/site-packages (from aiohttp!=4.0.0a0,!=4.0.0a1->fsspec[http]<=2025.3.0,>=2023.1.0->datasets) (6.2.0)\r\n",
      "Requirement already satisfied: propcache>=0.2.0 in /Users/sin/PycharmProjects/DIProject/.venv/lib/python3.11/site-packages (from aiohttp!=4.0.0a0,!=4.0.0a1->fsspec[http]<=2025.3.0,>=2023.1.0->datasets) (0.3.1)\r\n",
      "Requirement already satisfied: yarl<2.0,>=1.17.0 in /Users/sin/PycharmProjects/DIProject/.venv/lib/python3.11/site-packages (from aiohttp!=4.0.0a0,!=4.0.0a1->fsspec[http]<=2025.3.0,>=2023.1.0->datasets) (1.19.0)\r\n",
      "Requirement already satisfied: six>=1.5 in /Users/sin/PycharmProjects/DIProject/.venv/lib/python3.11/site-packages (from python-dateutil>=2.8.2->pandas->datasets) (1.17.0)\r\n",
      "Requirement already satisfied: mpmath<1.4,>=1.1.0 in /Users/sin/PycharmProjects/DIProject/.venv/lib/python3.11/site-packages (from sympy>=1.13.3->torch>=2.0.0->accelerate) (1.3.0)\r\n",
      "Requirement already satisfied: MarkupSafe>=2.0 in /Users/sin/PycharmProjects/DIProject/.venv/lib/python3.11/site-packages (from jinja2->torch>=2.0.0->accelerate) (3.0.2)\r\n",
      "Downloading bitsandbytes-0.42.0-py3-none-any.whl (105.0 MB)\r\n",
      "\u001B[2K   \u001B[90m━━━━━━━━━━━━━━━━━━━━━━━━━━━━━━━━━━━━━━━━\u001B[0m \u001B[32m105.0/105.0 MB\u001B[0m \u001B[31m1.9 MB/s\u001B[0m eta \u001B[36m0:00:00\u001B[0m00:01\u001B[0m00:02\u001B[0m\r\n",
      "\u001B[?25hDownloading qwen_tokenizer-0.2.0-py3-none-any.whl (1.1 MB)\r\n",
      "\u001B[2K   \u001B[90m━━━━━━━━━━━━━━━━━━━━━━━━━━━━━━━━━━━━━━━━\u001B[0m \u001B[32m1.1/1.1 MB\u001B[0m \u001B[31m23.4 MB/s\u001B[0m eta \u001B[36m0:00:00\u001B[0m00:01\u001B[0m\r\n",
      "\u001B[?25hDownloading scipy-1.15.3-cp311-cp311-macosx_14_0_arm64.whl (22.4 MB)\r\n",
      "\u001B[2K   \u001B[91m━━━━━━━━━━━━━━━━━━━━━━━\u001B[0m\u001B[90m╺\u001B[0m\u001B[90m━━━━━━━━━━━━━━━━\u001B[0m \u001B[32m13.0/22.4 MB\u001B[0m \u001B[31m2.0 MB/s\u001B[0m eta \u001B[36m0:00:05\u001B[0m^C\r\n",
      "\u001B[2K   \u001B[91m━━━━━━━━━━━━━━━━━━━━━━━\u001B[0m\u001B[91m╸\u001B[0m\u001B[90m━━━━━━━━━━━━━━━━\u001B[0m \u001B[32m13.2/22.4 MB\u001B[0m \u001B[31m2.0 MB/s\u001B[0m eta \u001B[36m0:00:05\u001B[0m\r\n",
      "\u001B[?25h\u001B[31mERROR: Operation cancelled by user\u001B[0m\u001B[31m\r\n",
      "\u001B[0m\r\n",
      "\u001B[1m[\u001B[0m\u001B[34;49mnotice\u001B[0m\u001B[1;39;49m]\u001B[0m\u001B[39;49m A new release of pip is available: \u001B[0m\u001B[31;49m23.2.1\u001B[0m\u001B[39;49m -> \u001B[0m\u001B[32;49m25.1.1\u001B[0m\r\n",
      "\u001B[1m[\u001B[0m\u001B[34;49mnotice\u001B[0m\u001B[1;39;49m]\u001B[0m\u001B[39;49m To update, run: \u001B[0m\u001B[32;49mpip install --upgrade pip\u001B[0m\r\n"
     ]
    }
   ],
   "execution_count": 3
  }
 ],
 "metadata": {
  "kernelspec": {
   "display_name": "Python 3",
   "language": "python",
   "name": "python3"
  },
  "language_info": {
   "codemirror_mode": {
    "name": "ipython",
    "version": 2
   },
   "file_extension": ".py",
   "mimetype": "text/x-python",
   "name": "python",
   "nbconvert_exporter": "python",
   "pygments_lexer": "ipython2",
   "version": "2.7.6"
  }
 },
 "nbformat": 4,
 "nbformat_minor": 5
}
